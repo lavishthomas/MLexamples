{
 "cells": [
  {
   "cell_type": "markdown",
   "metadata": {
    "deletable": true,
    "editable": true
   },
   "source": [
    "# Polynomial Regression\n",
    "\n",
    "The correlation between the variables are not always linear, to handle these cases we use polynomials to represent the realtions"
   ]
  },
  {
   "cell_type": "markdown",
   "metadata": {
    "deletable": true,
    "editable": true
   },
   "source": [
    "### Aim\n",
    "To find the price of a speaker system based on the required output power.\n"
   ]
  },
  {
   "cell_type": "markdown",
   "metadata": {
    "deletable": true,
    "editable": true
   },
   "source": [
    "### Data \n",
    "The data used in this example is generated in using a python program.\n",
    "\n",
    "The Data is about the **price in Euros** of a speaker and the sound **output in Watts** of the same.\n",
    "\n",
    "**Note** : The data used generated using a python program.\n",
    "\n",
    "### Libraries Used"
   ]
  },
  {
   "cell_type": "code",
   "execution_count": 1,
   "metadata": {
    "collapsed": true,
    "deletable": true,
    "editable": true
   },
   "outputs": [],
   "source": [
    "import matplotlib.pyplot as plt\n",
    "import numpy as np\n",
    "import pandas as pd\n",
    "from scipy import stats\n",
    "from sklearn.metrics import r2_score\n",
    "from pylab import *\n",
    "\n",
    "%matplotlib inline"
   ]
  },
  {
   "cell_type": "markdown",
   "metadata": {
    "deletable": true,
    "editable": true
   },
   "source": [
    "### Loading the Data"
   ]
  },
  {
   "cell_type": "code",
   "execution_count": 2,
   "metadata": {
    "collapsed": false,
    "deletable": true,
    "editable": true
   },
   "outputs": [
    {
     "data": {
      "text/plain": [
       "Index(['Name', 'Price', 'Watt'], dtype='object')"
      ]
     },
     "execution_count": 2,
     "metadata": {},
     "output_type": "execute_result"
    }
   ],
   "source": [
    "# Data saved in the same folder\n",
    "df = pd.read_csv(\"Data/SpeakerPrice.csv\")\n",
    "df.columns"
   ]
  },
  {
   "cell_type": "markdown",
   "metadata": {
    "deletable": true,
    "editable": true
   },
   "source": [
    "The Dataset contains Name, Price and Power in watts, We can ignore the values in the column **Name** in this use-case"
   ]
  },
  {
   "cell_type": "markdown",
   "metadata": {
    "deletable": true,
    "editable": true
   },
   "source": [
    "### Plot of 'Power Vs Price'\n",
    "We are checking if any correlation exists between power and the price of the speakers\n"
   ]
  },
  {
   "cell_type": "code",
   "execution_count": 3,
   "metadata": {
    "collapsed": false,
    "deletable": true,
    "editable": true
   },
   "outputs": [
    {
     "data": {
      "text/plain": [
       "<matplotlib.text.Text at 0x2564f812588>"
      ]
     },
     "execution_count": 3,
     "metadata": {},
     "output_type": "execute_result"
    },
    {
     "data": {
      "image/png": "[encoded data removed]",
      "text/plain": [
       "<matplotlib.figure.Figure at 0x2564f7d64e0>"
      ]
     },
     "metadata": {},
     "output_type": "display_data"
    }
   ],
   "source": [
    "scatter(df['Price'] , df['Watt'] )\n",
    "# Adding labels\n",
    "plt.xlabel(\"Price (in Euros)\")\n",
    "plt.ylabel(\"Power (in Watts)\")"
   ]
  },
  {
   "cell_type": "markdown",
   "metadata": {
    "deletable": true,
    "editable": true
   },
   "source": [
    "#### Observation :\n",
    "we can observe that there is a non-linear correlation between Price and Power. <br>\n",
    "In the data set, we can observe as the power rating **increases**, the variance in the inflation of the price **decreases**. <br> Hence a polynomial regression has to be used to predict the price based on the power."
   ]
  },
  {
   "cell_type": "markdown",
   "metadata": {
    "deletable": true,
    "editable": true
   },
   "source": [
    "#### Polynomial function :"
   ]
  },
  {
   "cell_type": "markdown",
   "metadata": {
    "deletable": true,
    "editable": true
   },
   "source": [
    "Creating a polynomial funtion with **degree 2** to **degree 7** to find the which degree polynomial is optimal"
   ]
  },
  {
   "cell_type": "code",
   "execution_count": 4,
   "metadata": {
    "collapsed": false,
    "deletable": true,
    "editable": true
   },
   "outputs": [
    {
     "name": "stdout",
     "output_type": "stream",
     "text": [
      "R2 vlaue for Polynomial Function with degree 2 :  0.928117266305\n",
      "R2 vlaue for Polynomial Function with degree 3 :  0.949112792833\n",
      "R2 vlaue for Polynomial Function with degree 4 :  0.954367870307\n",
      "R2 vlaue for Polynomial Function with degree 5 :  0.95509373442\n",
      "R2 vlaue for Polynomial Function with degree 6 :  0.955094092989\n",
      "R2 vlaue for Polynomial Function with degree 7 :  0.955664913525\n"
     ]
    }
   ],
   "source": [
    "Line = np.poly1d(np.polyfit(df['Price'], df['Watt'], 2))\n",
    "r2 = r2_score(df['Watt'], Line(df['Price']))\n",
    "print(\"R2 vlaue for Polynomial Function with degree 2 : \" , r2)\n",
    "Line = np.poly1d(np.polyfit(df['Price'], df['Watt'], 3))\n",
    "r2 = r2_score(df['Watt'], Line(df['Price']))\n",
    "print(\"R2 vlaue for Polynomial Function with degree 3 : \" , r2)\n",
    "Line = np.poly1d(np.polyfit(df['Price'], df['Watt'], 4))\n",
    "r2 = r2_score(df['Watt'], Line(df['Price']))\n",
    "print(\"R2 vlaue for Polynomial Function with degree 4 : \" , r2)\n",
    "Line = np.poly1d(np.polyfit(df['Price'], df['Watt'], 5))\n",
    "r2 = r2_score(df['Watt'], Line(df['Price']))\n",
    "print(\"R2 vlaue for Polynomial Function with degree 5 : \" , r2)\n",
    "Line = np.poly1d(np.polyfit(df['Price'], df['Watt'], 6))\n",
    "r2 = r2_score(df['Watt'], Line(df['Price']))\n",
    "print(\"R2 vlaue for Polynomial Function with degree 6 : \" , r2)\n",
    "Line = np.poly1d(np.polyfit(df['Price'], df['Watt'], 7))\n",
    "r2 = r2_score(df['Watt'], Line(df['Price']))\n",
    "print(\"R2 vlaue for Polynomial Function with degree 7 : \" , r2)"
   ]
  },
  {
   "cell_type": "markdown",
   "metadata": {
    "deletable": true,
    "editable": true
   },
   "source": [
    "#### **Observation** :\n",
    "The improvement we achieve by increasing the **degree** of  the polynomial from **4** and above do not yeild much improvement in **r2 score**. <br>\n",
    "Hence the **Polynomial degree = 5** will be set for this dataset\n",
    "### Plotting\n",
    "\n",
    "Fitting a polynomial function and plotting the same"
   ]
  },
  {
   "cell_type": "code",
   "execution_count": 5,
   "metadata": {
    "collapsed": false,
    "deletable": true,
    "editable": true
   },
   "outputs": [
    {
     "data": {
      "image/png": "[encoded data removed]",
      "text/plain": [
       "<matplotlib.figure.Figure at 0x2564f9bb5f8>"
      ]
     },
     "metadata": {},
     "output_type": "display_data"
    }
   ],
   "source": [
    "Line = np.poly1d(np.polyfit(df['Price'], df['Watt'], 4))\n",
    "### plotting the polynomial Function (red line)\n",
    "ls = np.linspace(0, 10000, 1000)\n",
    "\n",
    "### the values of Price vs Power is added to the grapgh\n",
    "plt.scatter(df['Price'], df['Watt'])\n",
    "\n",
    "### Labels\n",
    "plt.xlabel(\"Price (in Euros)\")\n",
    "plt.ylabel(\"Power (in Watts)\")\n",
    "\n",
    "### the Line is drawn\n",
    "plt.plot(ls, Line(ls), c='r')\n",
    "\n",
    "### printing the graph\n",
    "plt.show()"
   ]
  },
  {
   "cell_type": "markdown",
   "metadata": {
    "deletable": true,
    "editable": true
   },
   "source": [
    "### Polynomial Function used"
   ]
  },
  {
   "cell_type": "code",
   "execution_count": 6,
   "metadata": {
    "collapsed": false,
    "deletable": true,
    "editable": true
   },
   "outputs": [
    {
     "data": {
      "text/plain": [
       "poly1d([ -4.60905628e-13,   1.10984448e-08,  -9.61617248e-05,\n",
       "         4.03585669e-01,   6.10130389e+01])"
      ]
     },
     "execution_count": 6,
     "metadata": {},
     "output_type": "execute_result"
    }
   ],
   "source": [
    "Line"
   ]
  },
  {
   "cell_type": "markdown",
   "metadata": {
    "deletable": true,
    "editable": true
   },
   "source": [
    " This represents the following polynomial function <br>\n",
    " \n",
    "**-4.60905628e-13 * x ^ 4 + 1.10984448e-08 * x ^ 3 + -9.61617248e-05 * x ^ 2 + 4.03585669e-01 * x + 6.10130389e+01**"
   ]
  },
  {
   "cell_type": "markdown",
   "metadata": {
    "deletable": true,
    "editable": true
   },
   "source": [
    "### Prediction \n",
    "A customer want to check the estimated price of a system with a power requirement of **5000 Watts**"
   ]
  },
  {
   "cell_type": "code",
   "execution_count": 7,
   "metadata": {
    "collapsed": false,
    "deletable": true,
    "editable": true
   },
   "outputs": [
    {
     "name": "stdout",
     "output_type": "stream",
     "text": [
      "774.137843981\n"
     ]
    }
   ],
   "source": [
    "power=5000\n",
    "estimated_price = Line(power)\n",
    "print(estimated_price)"
   ]
  },
  {
   "cell_type": "markdown",
   "metadata": {
    "deletable": true,
    "editable": true
   },
   "source": [
    "### Conclusion\n",
    "\n",
    "According to the Current model, \n",
    "the approximate price to be expected is **~769.80 Euro** <br>\n",
    "for a new speaker with **power 5000 Watts**"
   ]
  },
  {
   "cell_type": "code",
   "execution_count": null,
   "metadata": {
    "collapsed": true,
    "deletable": true,
    "editable": true
   },
   "outputs": [],
   "source": []
  }
 ],
 "metadata": {
  "kernelspec": {
   "display_name": "Python 3",
   "language": "python",
   "name": "python3"
  },
  "language_info": {
   "codemirror_mode": {
    "name": "ipython",
    "version": 3
   },
   "file_extension": ".py",
   "mimetype": "text/x-python",
   "name": "python",
   "nbconvert_exporter": "python",
   "pygments_lexer": "ipython3",
   "version": "3.5.2"
  }
 },
 "nbformat": 4,
 "nbformat_minor": 0
}
