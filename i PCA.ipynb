{
 "cells": [
  {
   "cell_type": "markdown",
   "metadata": {
    "deletable": true,
    "editable": true
   },
   "source": [
    "# Principal Component Analysis\n",
    "Principal component analysis (PCA) is a statistical procedure that uses an orthogonal transformation to convert a set of observations of possibly correlated variables into a set of values of linearly uncorrelated variables called principal components.\n",
    "\n",
    "This reduces the computational complexities required to deal with multiple features.<br>\n",
    "At the same time, if the dimenions gets reduced to less than\" 3 , it is easy to visualize also. \n",
    "### Data\n",
    "The Data consists of the specifications of the laptops and the categories of the same.<br>\n",
    "**Specifications** are : <br>\n",
    "1) CPU Speed<br>\n",
    "2) RAM<br>\n",
    "3) Hard Disk <br>\n",
    "4) Price <br>\n",
    "**Categories** possible are: <br>\n",
    "1) Personal<br>\n",
    "2) Business<br>\n",
    "3) Gaming<br>\n",
    "\n",
    "**Note**:The data used in this example is generated in using a python program.\n",
    "\n",
    "### Aim\n",
    "\n",
    "Currently the category is speicified based on 4 parameters Price,Speed,Ram,Storage. But as the data increases it will be computationally expensive to calculate 4 features. Hence, using the principle component analysis the dimensions of the data set is reduced to two.\n",
    "\n",
    "### Libraries Used"
   ]
  },
  {
   "cell_type": "code",
   "execution_count": 1,
   "metadata": {
    "collapsed": true,
    "deletable": true,
    "editable": true
   },
   "outputs": [],
   "source": [
    "import pylab as pl\n",
    "import pandas as pd\n",
    "import numpy as np\n",
    "from sklearn.decomposition import PCA\n",
    "from sklearn import model_selection,svm\n",
    "from numpy import random, array\n",
    "from itertools import cycle\n",
    "from pylab import *\n",
    "%matplotlib inline"
   ]
  },
  {
   "cell_type": "markdown",
   "metadata": {
    "deletable": true,
    "editable": true
   },
   "source": [
    "### Loading the data"
   ]
  },
  {
   "cell_type": "code",
   "execution_count": 2,
   "metadata": {
    "collapsed": false,
    "deletable": true,
    "editable": true
   },
   "outputs": [
    {
     "data": {
      "text/html": [
       "<div>\n",
       "<style>\n",
       "    .dataframe thead tr:only-child th {\n",
       "        text-align: right;\n",
       "    }\n",
       "\n",
       "    .dataframe thead th {\n",
       "        text-align: left;\n",
       "    }\n",
       "\n",
       "    .dataframe tbody tr th {\n",
       "        vertical-align: top;\n",
       "    }\n",
       "</style>\n",
       "<table border=\"1\" class=\"dataframe\">\n",
       "  <thead>\n",
       "    <tr style=\"text-align: right;\">\n",
       "      <th></th>\n",
       "      <th>Price</th>\n",
       "      <th>Speed</th>\n",
       "      <th>Ram</th>\n",
       "      <th>HDD</th>\n",
       "      <th>Class</th>\n",
       "    </tr>\n",
       "  </thead>\n",
       "  <tbody>\n",
       "    <tr>\n",
       "      <th>0</th>\n",
       "      <td>136.55</td>\n",
       "      <td>0.52</td>\n",
       "      <td>1821</td>\n",
       "      <td>1088</td>\n",
       "      <td>Personal</td>\n",
       "    </tr>\n",
       "    <tr>\n",
       "      <th>1</th>\n",
       "      <td>182.98</td>\n",
       "      <td>2.28</td>\n",
       "      <td>1825</td>\n",
       "      <td>885</td>\n",
       "      <td>Personal</td>\n",
       "    </tr>\n",
       "    <tr>\n",
       "      <th>2</th>\n",
       "      <td>127.35</td>\n",
       "      <td>-0.41</td>\n",
       "      <td>2516</td>\n",
       "      <td>1014</td>\n",
       "      <td>Personal</td>\n",
       "    </tr>\n",
       "    <tr>\n",
       "      <th>3</th>\n",
       "      <td>150.76</td>\n",
       "      <td>1.17</td>\n",
       "      <td>1396</td>\n",
       "      <td>665</td>\n",
       "      <td>Personal</td>\n",
       "    </tr>\n",
       "    <tr>\n",
       "      <th>4</th>\n",
       "      <td>111.09</td>\n",
       "      <td>0.60</td>\n",
       "      <td>1898</td>\n",
       "      <td>1192</td>\n",
       "      <td>Personal</td>\n",
       "    </tr>\n",
       "  </tbody>\n",
       "</table>\n",
       "</div>"
      ],
      "text/plain": [
       "    Price  Speed   Ram   HDD     Class\n",
       "0  136.55   0.52  1821  1088  Personal\n",
       "1  182.98   2.28  1825   885  Personal\n",
       "2  127.35  -0.41  2516  1014  Personal\n",
       "3  150.76   1.17  1396   665  Personal\n",
       "4  111.09   0.60  1898  1192  Personal"
      ]
     },
     "execution_count": 2,
     "metadata": {},
     "output_type": "execute_result"
    }
   ],
   "source": [
    "df = pd.read_csv(\"Data/LaptopPrice.csv\")\n",
    "df.head()"
   ]
  },
  {
   "cell_type": "markdown",
   "metadata": {
    "deletable": true,
    "editable": true
   },
   "source": [
    "### Mapping of the Target data and Extracting the features\n",
    "The data has to be mapped to numerical values for the calculation purposes."
   ]
  },
  {
   "cell_type": "code",
   "execution_count": 3,
   "metadata": {
    "collapsed": true,
    "deletable": true,
    "editable": true
   },
   "outputs": [],
   "source": [
    "d = {'Personal': 1, 'Business': 2,  'Gaming': 3 }\n",
    "target_names = ['Personal', 'Business',  'Gaming'] \n",
    "df['Class'] = df['Class'].map(d)\n",
    "features = df.drop('Class', axis=1).as_matrix()\n",
    "target = np.squeeze(df.filter(['Class'], axis=1).as_matrix())"
   ]
  },
  {
   "cell_type": "markdown",
   "metadata": {
    "deletable": true,
    "editable": true
   },
   "source": [
    "### Splitting test and train"
   ]
  },
  {
   "cell_type": "code",
   "execution_count": 4,
   "metadata": {
    "collapsed": false,
    "deletable": true,
    "editable": true
   },
   "outputs": [],
   "source": [
    "X_train, X_test, y_train, y_test = model_selection.train_test_split(features, target, test_size=0.4, random_state=1)"
   ]
  },
  {
   "cell_type": "markdown",
   "metadata": {
    "deletable": true,
    "editable": true
   },
   "source": [
    "### SVC Training and Test Score without PCA"
   ]
  },
  {
   "cell_type": "code",
   "execution_count": 5,
   "metadata": {
    "collapsed": false,
    "deletable": true,
    "editable": true
   },
   "outputs": [
    {
     "name": "stdout",
     "output_type": "stream",
     "text": [
      "Train R2 Score : 1.0\n",
      "Test R2 Score 0.825\n"
     ]
    }
   ],
   "source": [
    "clf = svm.SVC(kernel='linear', C=1).fit(X_train, y_train)\n",
    "print(\"Train R2 Score : \"+ str(clf.score(X_train, y_train)   ))\n",
    "print(\"Test R2 Score \"+str(clf.score(X_test, y_test)   ))"
   ]
  },
  {
   "cell_type": "markdown",
   "metadata": {
    "deletable": true,
    "editable": true
   },
   "source": [
    "#### Observation\n",
    "The model is overfitting as the Training R2 score is high and Test score is low."
   ]
  },
  {
   "cell_type": "markdown",
   "metadata": {
    "deletable": true,
    "editable": true
   },
   "source": [
    "## Principal Component Analysis\n",
    "PCA function is used to reduce the number of dimensions. <br>\n",
    "Parameters used: <br>\n",
    "n_components - 2 (Dimension after transformation)<br>\n",
    "Whiten = True (To ensure uncorrelated outputs )<br>"
   ]
  },
  {
   "cell_type": "code",
   "execution_count": 6,
   "metadata": {
    "collapsed": false,
    "deletable": true,
    "editable": true
   },
   "outputs": [],
   "source": [
    "pca = PCA(n_components=2, whiten=True).fit(X_train)\n",
    "TransformedFeatures = pca.transform(features)\n",
    "TransformedTrainFeatures = pca.transform(X_train)\n",
    "TransformedTestFeatures= pca.transform(X_test)"
   ]
  },
  {
   "cell_type": "markdown",
   "metadata": {
    "deletable": true,
    "editable": true
   },
   "source": [
    "### New Variance\n",
    "\n",
    "After the reduction to 2 dimensions. The Varaince in the data preserved is checked."
   ]
  },
  {
   "cell_type": "code",
   "execution_count": 7,
   "metadata": {
    "collapsed": false,
    "deletable": true,
    "editable": true
   },
   "outputs": [
    {
     "name": "stdout",
     "output_type": "stream",
     "text": [
      "[ 0.93625913  0.05768887]\n",
      "0.993947998968\n"
     ]
    }
   ],
   "source": [
    "print(pca.explained_variance_ratio_)\n",
    "print(sum(pca.explained_variance_ratio_))"
   ]
  },
  {
   "cell_type": "markdown",
   "metadata": {
    "deletable": true,
    "editable": true
   },
   "source": [
    "#### Observation \n",
    "With one dimension, the model was able preserve **92** % of the variance and <br>\n",
    "Second dimension hold **7%** of the variance, <br>\n",
    "So combinedly, the even with reduction to **two dimensions**, still **99 %** of the variance is preserved.\n",
    "\n",
    "### Plotting the graph \n",
    "The data based on the new two dimensions are used to plot"
   ]
  },
  {
   "cell_type": "code",
   "execution_count": 8,
   "metadata": {
    "collapsed": false,
    "deletable": true,
    "editable": true
   },
   "outputs": [
    {
     "data": {
      "image/png": "[encoded data removed]",
      "text/plain": [
       "<matplotlib.figure.Figure at 0x1e6d58832b0>"
      ]
     },
     "metadata": {},
     "output_type": "display_data"
    }
   ],
   "source": [
    "colors = cycle('rgb')\n",
    "target_ids = range(1,len(target_names)+1)\n",
    "#pl.figure()\n",
    "for i, c, label in zip(target_ids, colors, target_names):\n",
    "    pl.scatter(TransformedFeatures[target == i, 0], TransformedFeatures[target == i, 1],\n",
    "        c=c, label=label)\n",
    "pl.legend()\n",
    "pl.show()\n",
    "    "
   ]
  },
  {
   "cell_type": "markdown",
   "metadata": {
    "deletable": true,
    "editable": true
   },
   "source": [
    "#### Observation:\n",
    "As we can observe in the graph, the data is can be loosely classified into 3 sectors.\n",
    "\n",
    "### Training and Test Scores\n",
    "\n",
    "Using SVC to train the model based on this new **reduced dimenion** data set and<br> \n",
    "checking the R2 Scores"
   ]
  },
  {
   "cell_type": "code",
   "execution_count": 9,
   "metadata": {
    "collapsed": false,
    "deletable": true,
    "editable": true
   },
   "outputs": [
    {
     "name": "stdout",
     "output_type": "stream",
     "text": [
      "Train R2 Score : 0.966101694915\n",
      "Test R2 Score 0.9\n"
     ]
    }
   ],
   "source": [
    "clf = svm.SVC(kernel='linear', C=1).fit(TransformedTrainFeatures, y_train)\n",
    "\n",
    "print(\"Train R2 Score : \"+ str(clf.score(TransformedTrainFeatures, y_train)   ))\n",
    "print(\"Test R2 Score \"+str(clf.score(TransformedTestFeatures, y_test)   ))"
   ]
  },
  {
   "cell_type": "markdown",
   "metadata": {
    "deletable": true,
    "editable": true
   },
   "source": [
    "#### Observation:\n",
    "The Test accuracy have increased than the original dataset and train accuracy has reduced. <br>\n",
    "Plausible Cause: Reduction of dimension removed the overfitting of the classification in the SVC which created a better R2 Score.\n"
   ]
  },
  {
   "cell_type": "markdown",
   "metadata": {
    "deletable": true,
    "editable": true
   },
   "source": [
    "### Result\n",
    "The Principal component analysis helped in reducing the number of dimension which will help in reducing the training time for large dataset.\n",
    "\n",
    "\n",
    "\n",
    "### Conclusion\n",
    "The PCA method was successfully used in reducing the number of dimension for the dataset "
   ]
  },
  {
   "cell_type": "code",
   "execution_count": null,
   "metadata": {
    "collapsed": true,
    "deletable": true,
    "editable": true
   },
   "outputs": [],
   "source": []
  }
 ],
 "metadata": {
  "kernelspec": {
   "display_name": "Python 3",
   "language": "python",
   "name": "python3"
  },
  "language_info": {
   "codemirror_mode": {
    "name": "ipython",
    "version": 3
   },
   "file_extension": ".py",
   "mimetype": "text/x-python",
   "name": "python",
   "nbconvert_exporter": "python",
   "pygments_lexer": "ipython3",
   "version": "3.5.2"
  }
 },
 "nbformat": 4,
 "nbformat_minor": 0
}
