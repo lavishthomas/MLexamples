{
 "cells": [
  {
   "cell_type": "markdown",
   "metadata": {
    "deletable": true,
    "editable": true
   },
   "source": [
    "# Linear Regression"
   ]
  },
  {
   "cell_type": "markdown",
   "metadata": {
    "deletable": true,
    "editable": true
   },
   "source": [
    "Linear Regression can be used to determine correlation between parameters which in turn can used to predict a corresponding value of a parameter, given the other parameter.\n",
    "### Aim\n",
    "The aim is to find the average reimbrusement done by the clients at particulat age. <br>\n",
    "We can set the premium for a new client based on the age. (This is simple demo , real use case need to consider segments, policy types, number of clients etc)\n",
    "### Data \n",
    "The Data represents the client details of an insurance company. <br><br>\n",
    "**Note : **The data used is generated in an Excel sheet, assuming the total reimbursement by a client in a year is directly proportional to the age.\n",
    "\n",
    "### Libraries Used:"
   ]
  },
  {
   "cell_type": "code",
   "execution_count": 1,
   "metadata": {
    "collapsed": true,
    "deletable": true,
    "editable": true
   },
   "outputs": [],
   "source": [
    "# importing libaries for the Demo program\n",
    "import matplotlib.pyplot as plt\n",
    "import numpy as np\n",
    "import pandas as pd\n",
    "%matplotlib inline\n",
    "from sklearn.metrics import r2_score\n",
    "from pylab import *\n",
    "from scipy import stats"
   ]
  },
  {
   "cell_type": "markdown",
   "metadata": {
    "deletable": true,
    "editable": true
   },
   "source": [
    "### Loading the data "
   ]
  },
  {
   "cell_type": "code",
   "execution_count": 2,
   "metadata": {
    "collapsed": false,
    "deletable": true,
    "editable": true
   },
   "outputs": [
    {
     "data": {
      "text/plain": [
       "Index(['SlNo', 'Name', 'Age', 'Number of Times admitted',\n",
       "       'Total Reimbrusement'],\n",
       "      dtype='object')"
      ]
     },
     "execution_count": 2,
     "metadata": {},
     "output_type": "execute_result"
    }
   ],
   "source": [
    "# Data saved in the same folder\n",
    "df = pd.read_csv(\"Data/InsuranceSmall.csv\")\n",
    "df.columns"
   ]
  },
  {
   "cell_type": "markdown",
   "metadata": {
    "deletable": true,
    "editable": true
   },
   "source": [
    "### Plot of 'Age Vs Total reimbursement'\n",
    "Checking if any correlation exists between Age and Total reimbrusement."
   ]
  },
  {
   "cell_type": "code",
   "execution_count": 3,
   "metadata": {
    "collapsed": false,
    "deletable": true,
    "editable": true,
    "scrolled": true
   },
   "outputs": [
    {
     "data": {
      "text/plain": [
       "<matplotlib.text.Text at 0x1c6c48736d8>"
      ]
     },
     "execution_count": 3,
     "metadata": {},
     "output_type": "execute_result"
    },
    {
     "data": {
      "image/png": "[encoded data removed]",
      "text/plain": [
       "<matplotlib.figure.Figure at 0x1c6c47f5860>"
      ]
     },
     "metadata": {},
     "output_type": "display_data"
    }
   ],
   "source": [
    "#scatter(df['Age'] , df['Total Reimbrusement'] )\n",
    "scatter(df['Age'] , df['Total Reimbrusement'] )\n",
    "# Adding labels\n",
    "plt.xlabel(\"Age (in Years)\")\n",
    "plt.ylabel(\"Total reimbrusement (In Euros)\")"
   ]
  },
  {
   "cell_type": "markdown",
   "metadata": {
    "deletable": true,
    "editable": true
   },
   "source": [
    "### Observation \n",
    "There is an increase in the **Total reimbrusement** as the Age increases."
   ]
  },
  {
   "cell_type": "markdown",
   "metadata": {
    "deletable": true,
    "editable": true
   },
   "source": [
    "### Standard parameters in a linear regression model"
   ]
  },
  {
   "cell_type": "code",
   "execution_count": 4,
   "metadata": {
    "collapsed": false,
    "deletable": true,
    "editable": true,
    "scrolled": true
   },
   "outputs": [
    {
     "name": "stdout",
     "output_type": "stream",
     "text": [
      "Slope of the regression line :  917.651732874\n",
      "Intercept of the regression line :  320.047155034\n",
      "Correlation coefficient or rvalue :  0.996183860665\n",
      "pvalue :  1.30478435309e-210\n",
      "Standard error of the estimated gradient. :  5.72819318432\n"
     ]
    }
   ],
   "source": [
    "slope, intercept, r_value, p_value, std_err = stats.linregress(df['Age'] , df['Total Reimbrusement'])\n",
    "print(\"Slope of the regression line : \" , slope );\n",
    "print(\"Intercept of the regression line : \" , intercept );\n",
    "print(\"Correlation coefficient or rvalue : \" , r_value );\n",
    "print(\"pvalue : \" , p_value );\n",
    "print(\"Standard error of the estimated gradient. : \" , std_err );"
   ]
  },
  {
   "cell_type": "markdown",
   "metadata": {
    "deletable": true,
    "editable": true
   },
   "source": [
    "### R2 Score \n",
    "This parameter shows, how accurately the function is fitting the data point present. <br>\n",
    "The range of R2 is from 1.0 (perfect correlation) to -1.0 (perfect inverse correlation)"
   ]
  },
  {
   "cell_type": "code",
   "execution_count": 5,
   "metadata": {
    "collapsed": false,
    "deletable": true,
    "editable": true
   },
   "outputs": [
    {
     "data": {
      "text/plain": [
       "0.99238228425006114"
      ]
     },
     "execution_count": 5,
     "metadata": {},
     "output_type": "execute_result"
    }
   ],
   "source": [
    "r_value ** 2"
   ]
  },
  {
   "cell_type": "markdown",
   "metadata": {
    "deletable": true,
    "editable": true
   },
   "source": [
    "### Polynomial function used with degree 1\n",
    "Polyfit finds the best equation with degree=1 specified which have least Standard error value. <br>\n",
    "Polynomial with Degree 1 is Linear equation."
   ]
  },
  {
   "cell_type": "code",
   "execution_count": 6,
   "metadata": {
    "collapsed": false,
    "deletable": true,
    "editable": true
   },
   "outputs": [
    {
     "data": {
      "image/png": "[encoded data removed]",
      "text/plain": [
       "<matplotlib.figure.Figure at 0x1c6c4ca0e10>"
      ]
     },
     "metadata": {},
     "output_type": "display_data"
    }
   ],
   "source": [
    "x = df['Age']\n",
    "y = df['Total Reimbrusement']\n",
    "\n",
    "### Polyfit finds the best equation with degree=1 specified which have least Standard error value \n",
    "degree =1 \n",
    "Line = np.poly1d(np.polyfit(x, y, degree))\n",
    "### Polynomial with Degree 1 is Linear equation\n",
    "\n",
    "xp = np.linspace(15, 90, 90)\n",
    "\n",
    "# the values of Age vs Reimbrusement is added to the grapgh\n",
    "plt.scatter(x, y)\n",
    "# the Line is drawn\n",
    "plt.plot(xp, Line(xp), c='r')\n",
    "\n",
    "# printing the graph\n",
    "plt.show()"
   ]
  },
  {
   "cell_type": "code",
   "execution_count": 7,
   "metadata": {
    "collapsed": false,
    "deletable": true,
    "editable": true
   },
   "outputs": [
    {
     "data": {
      "text/plain": [
       "poly1d([ 917.65173287,  320.04715503])"
      ]
     },
     "execution_count": 7,
     "metadata": {},
     "output_type": "execute_result"
    }
   ],
   "source": [
    "Line"
   ]
  },
  {
   "cell_type": "markdown",
   "metadata": {
    "deletable": true,
    "editable": true
   },
   "source": [
    "## Prediction \n",
    "For a person with **age 40  ** (new data), what how much annual reimbrusement could be expected.?"
   ]
  },
  {
   "cell_type": "code",
   "execution_count": 8,
   "metadata": {
    "collapsed": false,
    "deletable": true,
    "editable": true
   },
   "outputs": [
    {
     "name": "stdout",
     "output_type": "stream",
     "text": [
      "37026.11647\n"
     ]
    }
   ],
   "source": [
    "age=40;\n",
    "estimated_reimbursement = Line(age)\n",
    "print(estimated_reimbursement)"
   ]
  },
  {
   "cell_type": "markdown",
   "metadata": {
    "deletable": true,
    "editable": true
   },
   "source": [
    "### Conclusion"
   ]
  },
  {
   "cell_type": "markdown",
   "metadata": {
    "deletable": true,
    "editable": true
   },
   "source": [
    "According to the genrated model, \n",
    "the approximate reimbrusement to be expected is **~37,026 Euro** <br>\n",
    "for a new client **Aged 40**"
   ]
  }
 ],
 "metadata": {
  "kernelspec": {
   "display_name": "Python 3",
   "language": "python",
   "name": "python3"
  },
  "language_info": {
   "codemirror_mode": {
    "name": "ipython",
    "version": 3
   },
   "file_extension": ".py",
   "mimetype": "text/x-python",
   "name": "python",
   "nbconvert_exporter": "python",
   "pygments_lexer": "ipython3",
   "version": "3.5.2"
  }
 },
 "nbformat": 4,
 "nbformat_minor": 0
}
