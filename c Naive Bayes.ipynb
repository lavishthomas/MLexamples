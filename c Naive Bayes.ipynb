{
 "cells": [
  {
   "cell_type": "markdown",
   "metadata": {
    "deletable": true,
    "editable": true
   },
   "source": [
    "# Naive Bayes\n",
    "Naive Bayes is a classification method which makes use of the Bayes theorm to find the probability of a item to be of a specific class. "
   ]
  },
  {
   "cell_type": "markdown",
   "metadata": {
    "deletable": true,
    "editable": true
   },
   "source": [
    "### Aim\n",
    "\n",
    "A classifier of the movie reviews in IMDB database, which can be used to filter the reviews of a movie as **positive** or **negative**\n",
    "\n",
    "Note: **Naive_bayes** module of sklearn library is used to classify the reviews of the movies. <br>\n",
    "\n",
    "### Data\n",
    "Data is Downloaded from Kaggle from the below link and author is Arunava <br>\n",
    "https://www.kaggle.com/iarunava/imdb-movie-reviews-dataset\n",
    "\n",
    "Data set consists of **30000** text files in which **5000** is reserved for testing. <br>\n",
    "Both train and test datasets are again divided into positive and negative reviews which are equal in number. <br>\n",
    "\n",
    "### Training Data\n",
    "The Training data consists of **12500** positive reviews and **12500** negative reviews.\n",
    "### Test Data\n",
    "The Test data also consists of **2500** positive reviews and **2500** negative reviews.\n",
    "\n",
    "**NOTE** : The execution may be slow because of the huge dataset for training the text classifier\n",
    "\n",
    "### Libraries Used"
   ]
  },
  {
   "cell_type": "code",
   "execution_count": 1,
   "metadata": {
    "collapsed": false,
    "deletable": true,
    "editable": true
   },
   "outputs": [],
   "source": [
    "import os\n",
    "import io\n",
    "import numpy as np\n",
    "import collections\n",
    "from pandas import DataFrame\n",
    "from sklearn.feature_extraction.text import CountVectorizer\n",
    "from sklearn.naive_bayes import MultinomialNB,GaussianNB\n",
    "from sklearn.metrics import confusion_matrix"
   ]
  },
  {
   "cell_type": "markdown",
   "metadata": {
    "deletable": true,
    "editable": true
   },
   "source": [
    "### Helper Functions to read the file and create DataFrames\n",
    "This function reads a file and concatenate all lines. "
   ]
  },
  {
   "cell_type": "code",
   "execution_count": 2,
   "metadata": {
    "collapsed": true,
    "deletable": true,
    "editable": true
   },
   "outputs": [],
   "source": [
    "def readFiles(path):\n",
    "    for root, dirnames, filenames in os.walk(path):\n",
    "        for filename in filenames:\n",
    "            path = os.path.join(root, filename)\n",
    "            #print(path)\n",
    "            inBody = False\n",
    "            lines = []\n",
    "            f = io.open(path, 'r', encoding='latin1')            \n",
    "            for line in f:                           \n",
    "                lines.append(line)               \n",
    "            f.close()\n",
    "            message = '\\n'.join(lines)\n",
    "            #print(lines)\n",
    "            yield path, message"
   ]
  },
  {
   "cell_type": "markdown",
   "metadata": {
    "deletable": true,
    "editable": true
   },
   "source": [
    "This function iterates through each file and creates the dataFrame"
   ]
  },
  {
   "cell_type": "code",
   "execution_count": 3,
   "metadata": {
    "collapsed": true,
    "deletable": true,
    "editable": true
   },
   "outputs": [],
   "source": [
    "def dataFrameFromDirectory(path, classification):\n",
    "    rows = []\n",
    "    index = []\n",
    "    for filename, message in readFiles(path):\n",
    "        rows.append({'message': message, 'class': classification})\n",
    "        index.append(filename)\n",
    "    return DataFrame(rows, index=index)"
   ]
  },
  {
   "cell_type": "markdown",
   "metadata": {
    "deletable": true,
    "editable": true
   },
   "source": [
    "### Loading the data \n",
    "\n",
    "The previously defined helper functions is used to load the data into a DataFrame called movieReview. "
   ]
  },
  {
   "cell_type": "code",
   "execution_count": 4,
   "metadata": {
    "collapsed": false,
    "deletable": true,
    "editable": true
   },
   "outputs": [
    {
     "data": {
      "text/html": [
       "<div>\n",
       "<style>\n",
       "    .dataframe thead tr:only-child th {\n",
       "        text-align: right;\n",
       "    }\n",
       "\n",
       "    .dataframe thead th {\n",
       "        text-align: left;\n",
       "    }\n",
       "\n",
       "    .dataframe tbody tr th {\n",
       "        vertical-align: top;\n",
       "    }\n",
       "</style>\n",
       "<table border=\"1\" class=\"dataframe\">\n",
       "  <thead>\n",
       "    <tr style=\"text-align: right;\">\n",
       "      <th></th>\n",
       "      <th>class</th>\n",
       "      <th>message</th>\n",
       "    </tr>\n",
       "  </thead>\n",
       "  <tbody>\n",
       "    <tr>\n",
       "      <th>Data/imdb-movie-reviews-dataset/train/pos/0_9.txt</th>\n",
       "      <td>pos</td>\n",
       "      <td>Bromwell High is a cartoon comedy. It ran at t...</td>\n",
       "    </tr>\n",
       "    <tr>\n",
       "      <th>Data/imdb-movie-reviews-dataset/train/pos/10000_8.txt</th>\n",
       "      <td>pos</td>\n",
       "      <td>Homelessness (or Houselessness as George Carli...</td>\n",
       "    </tr>\n",
       "    <tr>\n",
       "      <th>Data/imdb-movie-reviews-dataset/train/pos/10001_10.txt</th>\n",
       "      <td>pos</td>\n",
       "      <td>Brilliant over-acting by Lesley Ann Warren. Be...</td>\n",
       "    </tr>\n",
       "    <tr>\n",
       "      <th>Data/imdb-movie-reviews-dataset/train/pos/10002_7.txt</th>\n",
       "      <td>pos</td>\n",
       "      <td>This is easily the most underrated film inn th...</td>\n",
       "    </tr>\n",
       "    <tr>\n",
       "      <th>Data/imdb-movie-reviews-dataset/train/pos/10003_8.txt</th>\n",
       "      <td>pos</td>\n",
       "      <td>This is not the typical Mel Brooks film. It wa...</td>\n",
       "    </tr>\n",
       "  </tbody>\n",
       "</table>\n",
       "</div>"
      ],
      "text/plain": [
       "                                                   class  \\\n",
       "Data/imdb-movie-reviews-dataset/train/pos/0_9.txt    pos   \n",
       "Data/imdb-movie-reviews-dataset/train/pos/10000...   pos   \n",
       "Data/imdb-movie-reviews-dataset/train/pos/10001...   pos   \n",
       "Data/imdb-movie-reviews-dataset/train/pos/10002...   pos   \n",
       "Data/imdb-movie-reviews-dataset/train/pos/10003...   pos   \n",
       "\n",
       "                                                                                              message  \n",
       "Data/imdb-movie-reviews-dataset/train/pos/0_9.txt   Bromwell High is a cartoon comedy. It ran at t...  \n",
       "Data/imdb-movie-reviews-dataset/train/pos/10000...  Homelessness (or Houselessness as George Carli...  \n",
       "Data/imdb-movie-reviews-dataset/train/pos/10001...  Brilliant over-acting by Lesley Ann Warren. Be...  \n",
       "Data/imdb-movie-reviews-dataset/train/pos/10002...  This is easily the most underrated film inn th...  \n",
       "Data/imdb-movie-reviews-dataset/train/pos/10003...  This is not the typical Mel Brooks film. It wa...  "
      ]
     },
     "execution_count": 4,
     "metadata": {},
     "output_type": "execute_result"
    }
   ],
   "source": [
    "movieReview = DataFrame({'message': [], 'class': []})\n",
    "\n",
    "movieReview = movieReview.append(dataFrameFromDirectory('Data/imdb-movie-reviews-dataset/train/pos/', 'pos'))\n",
    "movieReview = movieReview.append(dataFrameFromDirectory('Data/imdb-movie-reviews-dataset/train/neg/', 'neg'))\n",
    "movieReview.head()"
   ]
  },
  {
   "cell_type": "markdown",
   "metadata": {
    "deletable": true,
    "editable": true
   },
   "source": [
    "The variable movieReview is loaded with data with label wheather a review by the user is a positive or negative review."
   ]
  },
  {
   "cell_type": "markdown",
   "metadata": {
    "deletable": true,
    "editable": true
   },
   "source": [
    "### CountVectorizer\n",
    "CountVectorizer is used to split up the reviews into a list of words(a spare matrix with count of each word)"
   ]
  },
  {
   "cell_type": "code",
   "execution_count": 5,
   "metadata": {
    "collapsed": false,
    "deletable": true,
    "editable": true
   },
   "outputs": [],
   "source": [
    "vectorizer = CountVectorizer()\n",
    "counts = vectorizer.fit_transform(movieReview['message'].values)"
   ]
  },
  {
   "cell_type": "code",
   "execution_count": 6,
   "metadata": {
    "collapsed": false,
    "deletable": true,
    "editable": true
   },
   "outputs": [
    {
     "data": {
      "text/plain": [
       "matrix([[0, 0, 0, ..., 0, 0, 0],\n",
       "        [0, 0, 0, ..., 0, 0, 0],\n",
       "        [0, 0, 0, ..., 0, 0, 0],\n",
       "        ..., \n",
       "        [0, 0, 0, ..., 0, 0, 0],\n",
       "        [0, 1, 0, ..., 0, 0, 0],\n",
       "        [0, 0, 0, ..., 0, 0, 0]], dtype=int64)"
      ]
     },
     "execution_count": 6,
     "metadata": {},
     "output_type": "execute_result"
    }
   ],
   "source": [
    "counts.todense()"
   ]
  },
  {
   "cell_type": "markdown",
   "metadata": {
    "deletable": true,
    "editable": true
   },
   "source": [
    "### Classifier \n",
    "MultinomialNB classifier is created and used to fit/train the model using the training data"
   ]
  },
  {
   "cell_type": "code",
   "execution_count": 7,
   "metadata": {
    "collapsed": false,
    "deletable": true,
    "editable": true
   },
   "outputs": [
    {
     "data": {
      "text/plain": [
       "MultinomialNB(alpha=1.0, class_prior=None, fit_prior=True)"
      ]
     },
     "execution_count": 7,
     "metadata": {},
     "output_type": "execute_result"
    }
   ],
   "source": [
    "classifier = MultinomialNB()\n",
    "targets = movieReview['class'].values\n",
    "classifier.fit(counts, targets)\n",
    "#classifier.fit(counts.toarray(), targets)"
   ]
  },
  {
   "cell_type": "markdown",
   "metadata": {
    "deletable": true,
    "editable": true
   },
   "source": [
    "### Prediction\n",
    "The Model is now equipped with data to predict a new review is positive or negative. A **positive review** is fed into the classifier to predict."
   ]
  },
  {
   "cell_type": "code",
   "execution_count": 8,
   "metadata": {
    "collapsed": false,
    "deletable": true,
    "editable": true
   },
   "outputs": [
    {
     "name": "stdout",
     "output_type": "stream",
     "text": [
      "The review presented is : ['pos']\n"
     ]
    }
   ],
   "source": [
    "examples = [\"I went and saw this movie last night after being coaxed to by a few friends of mine. I'll admit that I was reluctant to see it because from what I knew of Ashton Kutcher he was only able to do comedy. I was wrong. Kutcher played the character of Jake Fischer very well, and Kevin Costner played Ben Randall with such professionalism. The sign of a good movie is that it can toy with our emotions. This one did exactly that. The entire theater (which was sold out) was overcome by laughter during the first half of the movie, and were moved to tears during the second half. While exiting the theater I not only saw many women in tears, but many full grown men as well, trying desperately not to let anyone see them crying. This movie was great, and I suggest that you go see it before you judge.\"]\n",
    "example_counts = vectorizer.transform(examples)\n",
    "predictions= classifier.predict(example_counts)\n",
    "print(\"The review presented is : \" + str(predictions))"
   ]
  },
  {
   "cell_type": "markdown",
   "metadata": {
    "deletable": true,
    "editable": true
   },
   "source": [
    "So according to current model the review which is given is a positive review. <br>\n",
    "As we have demostrated for one review, now a we will test it with the test data set we have reserved."
   ]
  },
  {
   "cell_type": "markdown",
   "metadata": {
    "deletable": true,
    "editable": true
   },
   "source": [
    "## Testing\n",
    "\n",
    "Now, the model has to be tested on the test data set so as mearure the model maturity. \n",
    "\n",
    "### Reading the Dataset from file and predicting the feedback class\n",
    "#### Positive Reviews"
   ]
  },
  {
   "cell_type": "code",
   "execution_count": 9,
   "metadata": {
    "collapsed": false,
    "deletable": true,
    "editable": true
   },
   "outputs": [
    {
     "name": "stdout",
     "output_type": "stream",
     "text": [
      "['pos' 'pos' 'pos' ..., 'pos' 'neg' 'pos']\n"
     ]
    }
   ],
   "source": [
    "Testdata = DataFrame({'message': [], 'class': []})\n",
    "Testdata = Testdata.append(dataFrameFromDirectory('Data/imdb-movie-reviews-dataset/test/pos/', 'pos'))\n",
    "\n",
    "### Extracting the messages from the dataframe for positive reviews\n",
    "positive_counts = vectorizer.transform(Testdata['message'])\n",
    "\n",
    "### Loading the prediction results for the positive reviews\n",
    "pos_predictions= classifier.predict(positive_counts)\n",
    "print(pos_predictions)"
   ]
  },
  {
   "cell_type": "markdown",
   "metadata": {
    "deletable": true,
    "editable": true
   },
   "source": [
    "#### Negative Reviews"
   ]
  },
  {
   "cell_type": "code",
   "execution_count": 10,
   "metadata": {
    "collapsed": false,
    "deletable": true,
    "editable": true
   },
   "outputs": [
    {
     "name": "stdout",
     "output_type": "stream",
     "text": [
      "['neg' 'neg' 'neg' ..., 'neg' 'neg' 'neg']\n"
     ]
    }
   ],
   "source": [
    "Testdata = DataFrame({'message': [], 'class': []})\n",
    "Testdata = Testdata.append(dataFrameFromDirectory('Data/imdb-movie-reviews-dataset/test/neg/', 'neg'))\n",
    "\n",
    "### Extracting the messages from the dataframe for negative reviews\n",
    "negative_counts = vectorizer.transform(Testdata['message'])\n",
    "\n",
    "### Loading the prediction results for the positive reviews\n",
    "neg_predictions= classifier.predict(negative_counts)\n",
    "print(neg_predictions)"
   ]
  },
  {
   "cell_type": "markdown",
   "metadata": {
    "deletable": true,
    "editable": true
   },
   "source": [
    "### Results"
   ]
  },
  {
   "cell_type": "code",
   "execution_count": 11,
   "metadata": {
    "collapsed": false,
    "deletable": true,
    "editable": true
   },
   "outputs": [
    {
     "data": {
      "text/plain": [
       "Counter({'neg': 633, 'pos': 1867})"
      ]
     },
     "execution_count": 11,
     "metadata": {},
     "output_type": "execute_result"
    }
   ],
   "source": [
    "collections.Counter(pos_predictions)"
   ]
  },
  {
   "cell_type": "markdown",
   "metadata": {
    "deletable": true,
    "editable": true
   },
   "source": [
    "#### Positive\n",
    "Out of **2500** positive reviews, <br> \n",
    "**1867** were correctly predicted as **positive** itself and <br> \n",
    "rest **633** as **negative**"
   ]
  },
  {
   "cell_type": "code",
   "execution_count": 12,
   "metadata": {
    "collapsed": false,
    "deletable": true,
    "editable": true
   },
   "outputs": [
    {
     "data": {
      "text/plain": [
       "Counter({'neg': 2229, 'pos': 271})"
      ]
     },
     "execution_count": 12,
     "metadata": {},
     "output_type": "execute_result"
    }
   ],
   "source": [
    "collections.Counter(neg_predictions)"
   ]
  },
  {
   "cell_type": "markdown",
   "metadata": {
    "deletable": true,
    "editable": true
   },
   "source": [
    "#### Negative\n",
    "Out of **2500** negative reviews, <br> \n",
    "**2229** were correctly predicted as **negative** itself and <br> \n",
    "rest **271** as **positive**"
   ]
  },
  {
   "cell_type": "markdown",
   "metadata": {
    "deletable": true,
    "editable": true
   },
   "source": [
    "## Confusion Matrix\n",
    "\n",
    "\n",
    "In order to evaluate our model for the movie review classifer we are going to use Confusion matrix"
   ]
  },
  {
   "cell_type": "markdown",
   "metadata": {
    "deletable": true,
    "editable": true
   },
   "source": [
    "### Expected Results Array\n",
    "A combined array of values which were expected for the testing data.<br>\n",
    "2500 positive and 2500 negative reviews"
   ]
  },
  {
   "cell_type": "code",
   "execution_count": 13,
   "metadata": {
    "collapsed": false,
    "deletable": true,
    "editable": true
   },
   "outputs": [
    {
     "data": {
      "text/plain": [
       "array(['pos', 'pos', 'pos', ..., 'neg', 'neg', 'neg'],\n",
       "      dtype='<U3')"
      ]
     },
     "execution_count": 13,
     "metadata": {},
     "output_type": "execute_result"
    }
   ],
   "source": [
    "expectedpos = np.full((2500), 'pos')\n",
    "expectedneg = np.full((2500), 'neg')\n",
    "# concatinating to get a single array\n",
    "expected = np.concatenate((expectedpos, expectedneg), axis=0)\n",
    "expected"
   ]
  },
  {
   "cell_type": "markdown",
   "metadata": {
    "deletable": true,
    "editable": true
   },
   "source": [
    "### Predicted Results Array\n",
    "A combined array of values which were predicted by the model for the testing data."
   ]
  },
  {
   "cell_type": "code",
   "execution_count": 14,
   "metadata": {
    "collapsed": false,
    "deletable": true,
    "editable": true
   },
   "outputs": [
    {
     "data": {
      "text/plain": [
       "array(['pos', 'pos', 'pos', ..., 'neg', 'neg', 'neg'],\n",
       "      dtype='<U3')"
      ]
     },
     "execution_count": 14,
     "metadata": {},
     "output_type": "execute_result"
    }
   ],
   "source": [
    "predictions =np.concatenate((pos_predictions, neg_predictions), axis=0) \n",
    "predictions"
   ]
  },
  {
   "cell_type": "markdown",
   "metadata": {
    "deletable": true,
    "editable": true
   },
   "source": [
    "### Calculating Confusion Matrix\n",
    "Based on predicted and expected results. Confusion matrix is created\n"
   ]
  },
  {
   "cell_type": "code",
   "execution_count": 15,
   "metadata": {
    "collapsed": false,
    "deletable": true,
    "editable": true
   },
   "outputs": [],
   "source": [
    "CM =  confusion_matrix(expected, predictions)"
   ]
  },
  {
   "cell_type": "markdown",
   "metadata": {
    "deletable": true,
    "editable": true
   },
   "source": [
    "### Extracting TN,FN,FP,TP\n",
    "Extracting True Negative , False Negative, True Positive, False positive count from the confusion matrix"
   ]
  },
  {
   "cell_type": "code",
   "execution_count": 16,
   "metadata": {
    "collapsed": false,
    "deletable": true,
    "editable": true
   },
   "outputs": [],
   "source": [
    "ActualPositive = 2500\n",
    "ActualNegative = 2500\n",
    "Total = ActualPositive + ActualNegative\n",
    "TrueNegative = CM[0][0]\n",
    "FalseNegative = CM[1][0]\n",
    "FalsePositive = CM [0][1]\n",
    "TruePositive = CM[1][1]"
   ]
  },
  {
   "cell_type": "markdown",
   "metadata": {
    "deletable": true,
    "editable": true
   },
   "source": [
    "### Varies parameters for evaluting our model"
   ]
  },
  {
   "cell_type": "markdown",
   "metadata": {
    "deletable": true,
    "editable": true
   },
   "source": [
    "#### Accuracy: \n",
    "Overall, how often is the classifier correct?"
   ]
  },
  {
   "cell_type": "code",
   "execution_count": 17,
   "metadata": {
    "collapsed": false,
    "deletable": true,
    "editable": true
   },
   "outputs": [
    {
     "data": {
      "text/plain": [
       "0.81920000000000004"
      ]
     },
     "execution_count": 17,
     "metadata": {},
     "output_type": "execute_result"
    }
   ],
   "source": [
    "(TruePositive+TrueNegative)/Total"
   ]
  },
  {
   "cell_type": "markdown",
   "metadata": {
    "deletable": true,
    "editable": true
   },
   "source": [
    "#### Misclassification Rate (Error Rate) : \n",
    "Overall, how often is it wrong? "
   ]
  },
  {
   "cell_type": "code",
   "execution_count": 18,
   "metadata": {
    "collapsed": false,
    "deletable": true,
    "editable": true
   },
   "outputs": [
    {
     "data": {
      "text/plain": [
       "0.18079999999999999"
      ]
     },
     "execution_count": 18,
     "metadata": {},
     "output_type": "execute_result"
    }
   ],
   "source": [
    "(FalsePositive+FalseNegative)/Total"
   ]
  },
  {
   "cell_type": "markdown",
   "metadata": {
    "deletable": true,
    "editable": true
   },
   "source": [
    "#### True Positive Rate: \n",
    "When it's actually yes, how often does it predict yes?"
   ]
  },
  {
   "cell_type": "code",
   "execution_count": 19,
   "metadata": {
    "collapsed": false,
    "deletable": true,
    "editable": true
   },
   "outputs": [
    {
     "data": {
      "text/plain": [
       "0.74680000000000002"
      ]
     },
     "execution_count": 19,
     "metadata": {},
     "output_type": "execute_result"
    }
   ],
   "source": [
    "TruePositive/ActualPositive"
   ]
  },
  {
   "cell_type": "markdown",
   "metadata": {
    "deletable": true,
    "editable": true
   },
   "source": [
    "#### False Positive Rate: \n",
    "When it's actually no, how often does it predict yes?"
   ]
  },
  {
   "cell_type": "code",
   "execution_count": 20,
   "metadata": {
    "collapsed": false,
    "deletable": true,
    "editable": true
   },
   "outputs": [
    {
     "data": {
      "text/plain": [
       "0.1084"
      ]
     },
     "execution_count": 20,
     "metadata": {},
     "output_type": "execute_result"
    }
   ],
   "source": [
    "FalsePositive/ActualNegative"
   ]
  },
  {
   "cell_type": "markdown",
   "metadata": {
    "deletable": true,
    "editable": true
   },
   "source": [
    "#### True Negative Rate: \n",
    "When it's actually no, how often does it predict no?"
   ]
  },
  {
   "cell_type": "code",
   "execution_count": 21,
   "metadata": {
    "collapsed": false,
    "deletable": true,
    "editable": true
   },
   "outputs": [
    {
     "data": {
      "text/plain": [
       "0.89159999999999995"
      ]
     },
     "execution_count": 21,
     "metadata": {},
     "output_type": "execute_result"
    }
   ],
   "source": [
    "TrueNegative/ActualNegative"
   ]
  },
  {
   "cell_type": "markdown",
   "metadata": {
    "deletable": true,
    "editable": true
   },
   "source": [
    "#### Precision: \n",
    "When it predicts yes, how often is it correct?"
   ]
  },
  {
   "cell_type": "code",
   "execution_count": 22,
   "metadata": {
    "collapsed": false,
    "deletable": true,
    "editable": true
   },
   "outputs": [
    {
     "data": {
      "text/plain": [
       "0.8732460243217961"
      ]
     },
     "execution_count": 22,
     "metadata": {},
     "output_type": "execute_result"
    }
   ],
   "source": [
    "TruePositive/(FalsePositive+TruePositive)"
   ]
  },
  {
   "cell_type": "markdown",
   "metadata": {
    "deletable": true,
    "editable": true
   },
   "source": [
    "#### Prevalence: \n",
    "How often does the yes condition actually occur in our sample?"
   ]
  },
  {
   "cell_type": "code",
   "execution_count": 23,
   "metadata": {
    "collapsed": false,
    "deletable": true,
    "editable": true
   },
   "outputs": [
    {
     "data": {
      "text/plain": [
       "0.5"
      ]
     },
     "execution_count": 23,
     "metadata": {},
     "output_type": "execute_result"
    }
   ],
   "source": [
    "ActualPositive/Total"
   ]
  },
  {
   "cell_type": "markdown",
   "metadata": {
    "deletable": true,
    "editable": true
   },
   "source": [
    "### Conclusion\n",
    "\n",
    "A sentiment analyzer was created using naive bayes method for classifing the movie reviews in IMDB website. A confusion matrix is presented in order to evaluate the accuracy of the model."
   ]
  },
  {
   "cell_type": "code",
   "execution_count": null,
   "metadata": {
    "collapsed": true,
    "deletable": true,
    "editable": true
   },
   "outputs": [],
   "source": []
  }
 ],
 "metadata": {
  "kernelspec": {
   "display_name": "Python 3",
   "language": "python",
   "name": "python3"
  },
  "language_info": {
   "codemirror_mode": {
    "name": "ipython",
    "version": 3
   },
   "file_extension": ".py",
   "mimetype": "text/x-python",
   "name": "python",
   "nbconvert_exporter": "python",
   "pygments_lexer": "ipython3",
   "version": "3.5.2"
  }
 },
 "nbformat": 4,
 "nbformat_minor": 0
}
