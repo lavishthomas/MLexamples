{
 "cells": [
  {
   "cell_type": "markdown",
   "metadata": {
    "deletable": true,
    "editable": true
   },
   "source": [
    "# Support Vector Machines"
   ]
  },
  {
   "cell_type": "markdown",
   "metadata": {
    "deletable": true,
    "editable": true
   },
   "source": [
    "The Support Vector Machine is a mathematical concept used to find a set of hyperplanes which can distantly classify the data points in higher dimenions in order to decrease variance. \n",
    "\n",
    "### Aim\n",
    "The ex-showroom price and on-road price of cars is analysed based on the utility class of the vehicles. The goal is find the higher dimension plane which can classify the data and predict the class of a new car based its given ex-showroom price and on-road price.\n",
    "\n",
    "### Data\n",
    "\n",
    "The Data is about the **ex-showroom price**(excluding taxes, insurance etc) <br>\n",
    "and the **on-road price**(including taxes, insurance etc) in Euros of a car.\n",
    "\n",
    "**Note:** \n",
    "The data used in this example is generated in using a python program.\n",
    "\n",
    "### Libraries Used"
   ]
  },
  {
   "cell_type": "code",
   "execution_count": 1,
   "metadata": {
    "collapsed": true,
    "deletable": true,
    "editable": true
   },
   "outputs": [],
   "source": [
    "import pandas as pd\n",
    "import numpy as np\n",
    "from numpy import random, array\n",
    "from sklearn import svm, datasets\n",
    "from pylab import *\n",
    "from itertools import cycle\n",
    "%matplotlib inline"
   ]
  },
  {
   "cell_type": "markdown",
   "metadata": {
    "deletable": true,
    "editable": true
   },
   "source": [
    "### Loading the data"
   ]
  },
  {
   "cell_type": "code",
   "execution_count": 2,
   "metadata": {
    "collapsed": false,
    "deletable": true,
    "editable": true
   },
   "outputs": [
    {
     "data": {
      "text/html": [
       "<div>\n",
       "<style>\n",
       "    .dataframe thead tr:only-child th {\n",
       "        text-align: right;\n",
       "    }\n",
       "\n",
       "    .dataframe thead th {\n",
       "        text-align: left;\n",
       "    }\n",
       "\n",
       "    .dataframe tbody tr th {\n",
       "        vertical-align: top;\n",
       "    }\n",
       "</style>\n",
       "<table border=\"1\" class=\"dataframe\">\n",
       "  <thead>\n",
       "    <tr style=\"text-align: right;\">\n",
       "      <th></th>\n",
       "      <th>ShowroomPrice</th>\n",
       "      <th>OnRoadPrice</th>\n",
       "      <th>Class</th>\n",
       "    </tr>\n",
       "  </thead>\n",
       "  <tbody>\n",
       "    <tr>\n",
       "      <th>0</th>\n",
       "      <td>74664.46</td>\n",
       "      <td>78749.08</td>\n",
       "      <td>EcoFriendly</td>\n",
       "    </tr>\n",
       "    <tr>\n",
       "      <th>1</th>\n",
       "      <td>75545.11</td>\n",
       "      <td>82358.51</td>\n",
       "      <td>EcoFriendly</td>\n",
       "    </tr>\n",
       "    <tr>\n",
       "      <th>2</th>\n",
       "      <td>77069.73</td>\n",
       "      <td>78899.88</td>\n",
       "      <td>EcoFriendly</td>\n",
       "    </tr>\n",
       "    <tr>\n",
       "      <th>3</th>\n",
       "      <td>71461.80</td>\n",
       "      <td>80120.54</td>\n",
       "      <td>EcoFriendly</td>\n",
       "    </tr>\n",
       "    <tr>\n",
       "      <th>4</th>\n",
       "      <td>73945.13</td>\n",
       "      <td>78043.75</td>\n",
       "      <td>EcoFriendly</td>\n",
       "    </tr>\n",
       "  </tbody>\n",
       "</table>\n",
       "</div>"
      ],
      "text/plain": [
       "   ShowroomPrice  OnRoadPrice        Class\n",
       "0       74664.46     78749.08  EcoFriendly\n",
       "1       75545.11     82358.51  EcoFriendly\n",
       "2       77069.73     78899.88  EcoFriendly\n",
       "3       71461.80     80120.54  EcoFriendly\n",
       "4       73945.13     78043.75  EcoFriendly"
      ]
     },
     "execution_count": 2,
     "metadata": {},
     "output_type": "execute_result"
    }
   ],
   "source": [
    "df = pd.read_csv(\"Data/CarPrice.csv\")\n",
    "df.head()"
   ]
  },
  {
   "cell_type": "markdown",
   "metadata": {
    "deletable": true,
    "editable": true
   },
   "source": [
    "### Mapping of the Target data and Extracting the features\n",
    "\n",
    "The data has to be mapped to numerical values for the calculatio purposes."
   ]
  },
  {
   "cell_type": "code",
   "execution_count": 3,
   "metadata": {
    "collapsed": false,
    "deletable": true,
    "editable": true
   },
   "outputs": [],
   "source": [
    "d = {'EcoFriendly': 1, 'Economy': 2,  'SUV': 3,'Luxury': 4  }\n",
    "target_names = ['EcoFriendly', 'Economy',  'SUV', 'Luxury'] \n",
    "df['Class'] = df['Class'].map(d)\n",
    "\n",
    "### Dropping the class from the original data set will give the feature list\n",
    "features = df.drop('Class', axis=1).as_matrix()\n",
    "\n",
    "### Only the class column is the target\n",
    "target = np.squeeze(df.filter(['Class'], axis=1).as_matrix())"
   ]
  },
  {
   "cell_type": "markdown",
   "metadata": {
    "deletable": true,
    "editable": true
   },
   "source": [
    "### Plotting the On-Road Price Vs Ex-Showroom Price"
   ]
  },
  {
   "cell_type": "code",
   "execution_count": 4,
   "metadata": {
    "collapsed": false,
    "deletable": true,
    "editable": true
   },
   "outputs": [
    {
     "data": {
      "image/png": "[encoded data removed]",
      "text/plain": [
       "<matplotlib.figure.Figure at 0x132cbdf4b70>"
      ]
     },
     "metadata": {},
     "output_type": "display_data"
    }
   ],
   "source": [
    "plt.figure(figsize=(8, 6))\n",
    "plt.ylabel('On Road Price');\n",
    "plt.xlabel('Ex-Showroom Price');\n",
    "#plt.scatter(features[:,0], features[:,1], c=target.astype(np.float))\n",
    "\n",
    "colors = cycle('yrgb')\n",
    "target_ids = range(1,len(target_names)+1)\n",
    "\n",
    "### Assigning the colors and plotting the graph\n",
    "for i, c, label in zip(target_ids, colors, target_names):\n",
    "    plt.scatter(features[target == i, 0], features[target == i, 1], c=c, label=label)\n",
    "    \n",
    "plt.legend()\n",
    "plt.show()"
   ]
  },
  {
   "cell_type": "markdown",
   "metadata": {
    "deletable": true,
    "editable": true
   },
   "source": [
    "#### Observation:\n",
    "We can observe there is 4 clusters of data as expected "
   ]
  },
  {
   "cell_type": "markdown",
   "metadata": {
    "deletable": true,
    "editable": true
   },
   "source": [
    "### Support Vector Classification (SVC)\n",
    "As the graphs shows clusters of data which are not separable by any single line, we use SVC to find the hyperplanes which can categorise the data points.\n",
    "<br><br>\n",
    "A **lower C** is chosen because to avoid overfitting and it is almost impossible for a hyperplane to clasify the points\n",
    "<br>\n",
    "A **polynomial kernal** with the **degree 3** is used because as shown in the plot, the data points are not linear differentiated. \n",
    "**Note**: It may take time to run as the classification is bit harder because of the overlapping datapoints.\n",
    "<br>\n",
    "\n",
    "#### Training"
   ]
  },
  {
   "cell_type": "code",
   "execution_count": 5,
   "metadata": {
    "collapsed": false,
    "deletable": true,
    "editable": true
   },
   "outputs": [],
   "source": [
    "C = .95\n",
    "\n",
    "svc = svm.SVC(kernel='poly',degree=3, C=C).fit(features, target)"
   ]
  },
  {
   "cell_type": "markdown",
   "metadata": {
    "deletable": true,
    "editable": true
   },
   "source": [
    "### Plot of the SVC Classification"
   ]
  },
  {
   "cell_type": "code",
   "execution_count": 6,
   "metadata": {
    "collapsed": false,
    "deletable": true,
    "editable": true
   },
   "outputs": [
    {
     "data": {
      "image/png": "[encoded data removed]",
      "text/plain": [
       "<matplotlib.figure.Figure at 0x132cbd9cf98>"
      ]
     },
     "metadata": {},
     "output_type": "display_data"
    }
   ],
   "source": [
    "def plotPredictions(clf):\n",
    "    xx, yy = np.meshgrid(np.arange(0, 110000, 1000), np.arange(10, 200000, 1000))\n",
    "    Z = clf.predict(np.c_[xx.ravel(), yy.ravel()])\n",
    "\n",
    "    plt.figure(figsize=(8, 6))\n",
    "    Z = Z.reshape(xx.shape)\n",
    "    plt.ylabel('On Road Price');\n",
    "    plt.xlabel('Showroom Price');\n",
    "    plt.contourf(xx, yy, Z, cmap=plt.cm.Paired, alpha=0.8)\n",
    "    #plt.scatter(features[:,0], features[:,1], c=target.astype(np.float))\n",
    "    for i, c, label in zip(target_ids, colors, target_names):\n",
    "        plt.scatter(features[target == i, 0], features[target == i, 1], c=c, label=label)\n",
    "    \n",
    "    plt.legend()\n",
    "    plt.show()\n",
    "    \n",
    "plotPredictions(svc)"
   ]
  },
  {
   "cell_type": "markdown",
   "metadata": {
    "deletable": true,
    "editable": true
   },
   "source": [
    "### Prediciton\n",
    "The category of the cars with following price is can be predicted using the SVC classifier we have trained.\n",
    "\n",
    "1) Ex-showroom price : 20000, On-Road Price : 60000 <br>\n",
    "2) Ex-showroom price : 50000, On-Road Price : 125000 <br>\n"
   ]
  },
  {
   "cell_type": "code",
   "execution_count": 7,
   "metadata": {
    "collapsed": false,
    "deletable": true,
    "editable": true
   },
   "outputs": [
    {
     "name": "stdout",
     "output_type": "stream",
     "text": [
      "[2]\n"
     ]
    }
   ],
   "source": [
    "print(svc.predict([[20000, 60000]]))"
   ]
  },
  {
   "cell_type": "code",
   "execution_count": 8,
   "metadata": {
    "collapsed": false,
    "deletable": true,
    "editable": true
   },
   "outputs": [
    {
     "name": "stdout",
     "output_type": "stream",
     "text": [
      "[3]\n"
     ]
    }
   ],
   "source": [
    "print(svc.predict([[50000, 125000]]))"
   ]
  },
  {
   "cell_type": "markdown",
   "metadata": {
    "deletable": true,
    "editable": true
   },
   "source": [
    "### Result\n",
    "According to the model, the **first car** belongs to **class 2** , which is **Economy** and <br>\n",
    "the second car belong to class 3 , which is **SUV**.\n",
    "\n",
    "### Conclusion\n",
    "The SVC was used to classify the cars based on ex-showroom price and on-road price as catgories was not linearly separable."
   ]
  },
  {
   "cell_type": "code",
   "execution_count": null,
   "metadata": {
    "collapsed": true,
    "deletable": true,
    "editable": true
   },
   "outputs": [],
   "source": []
  }
 ],
 "metadata": {
  "kernelspec": {
   "display_name": "Python 3",
   "language": "python",
   "name": "python3"
  },
  "language_info": {
   "codemirror_mode": {
    "name": "ipython",
    "version": 3
   },
   "file_extension": ".py",
   "mimetype": "text/x-python",
   "name": "python",
   "nbconvert_exporter": "python",
   "pygments_lexer": "ipython3",
   "version": "3.5.2"
  }
 },
 "nbformat": 4,
 "nbformat_minor": 0
}
